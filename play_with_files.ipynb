{
  "nbformat": 4,
  "nbformat_minor": 0,
  "metadata": {
    "colab": {
      "name": "play_with_files.ipynb",
      "provenance": [],
      "authorship_tag": "ABX9TyNz1VHKjK95wTsSCX1qQQ59"
    },
    "kernelspec": {
      "name": "python3",
      "display_name": "Python 3"
    }
  },
  "cells": [
    {
      "cell_type": "markdown",
      "metadata": {
        "id": "oAoJbPJKfSkz",
        "colab_type": "text"
      },
      "source": [
        "# Read and write files"
      ]
    },
    {
      "cell_type": "code",
      "metadata": {
        "id": "JLW-vn3vb85l",
        "colab_type": "code",
        "colab": {}
      },
      "source": [
        "f = open(\"textfile.txt\",\"w+\")\n",
        "\n",
        "for i in range(10):\n",
        "    f.write(\"This is line %d\\r\\n\" % (i+1))\n",
        "f.close()"
      ],
      "execution_count": null,
      "outputs": []
    },
    {
      "cell_type": "code",
      "metadata": {
        "id": "Jl43NX_ufoN2",
        "colab_type": "code",
        "colab": {
          "base_uri": "https://localhost:8080/",
          "height": 204
        },
        "outputId": "e63455e6-c694-40c7-9782-fae525069086"
      },
      "source": [
        "f = open(\"textfile.txt\",\"r\")\n",
        "if f.mode == 'r': # check to make sure that the file was opened\n",
        "    contents = f.read()\n",
        "    print (contents)\n",
        "f.close()"
      ],
      "execution_count": null,
      "outputs": [
        {
          "output_type": "stream",
          "text": [
            "This is line 1\n",
            "This is line 2\n",
            "This is line 3\n",
            "This is line 4\n",
            "This is line 5\n",
            "This is line 6\n",
            "This is line 7\n",
            "This is line 8\n",
            "This is line 9\n",
            "This is line 10\n",
            "\n"
          ],
          "name": "stdout"
        }
      ]
    },
    {
      "cell_type": "code",
      "metadata": {
        "id": "lctfz4bgf0ax",
        "colab_type": "code",
        "colab": {
          "base_uri": "https://localhost:8080/",
          "height": 357
        },
        "outputId": "fae7a854-9f9b-4250-a096-1873abf706dc"
      },
      "source": [
        "f = open(\"textfile.txt\",\"r\")\n",
        "fl = f.readlines()\n",
        "for x in fl:\n",
        "  print (x)"
      ],
      "execution_count": null,
      "outputs": [
        {
          "output_type": "stream",
          "text": [
            "This is line 1\n",
            "\n",
            "This is line 2\n",
            "\n",
            "This is line 3\n",
            "\n",
            "This is line 4\n",
            "\n",
            "This is line 5\n",
            "\n",
            "This is line 6\n",
            "\n",
            "This is line 7\n",
            "\n",
            "This is line 8\n",
            "\n",
            "This is line 9\n",
            "\n",
            "This is line 10\n",
            "\n"
          ],
          "name": "stdout"
        }
      ]
    },
    {
      "cell_type": "markdown",
      "metadata": {
        "id": "ekfkz_LegJEF",
        "colab_type": "text"
      },
      "source": [
        "# working with filesystem shell methods"
      ]
    },
    {
      "cell_type": "code",
      "metadata": {
        "id": "3GlewfdvgPoo",
        "colab_type": "code",
        "colab": {}
      },
      "source": [
        "import os\n",
        "from os import path\n",
        "import shutil\n",
        "from shutil import make_archive\n",
        "from zipfile import ZipFile"
      ],
      "execution_count": null,
      "outputs": []
    },
    {
      "cell_type": "code",
      "metadata": {
        "id": "qX-NImLBgRUK",
        "colab_type": "code",
        "colab": {}
      },
      "source": [
        "if path.exists(\"textfile.txt\"):\n",
        "    src = path.realpath(\"textfile.txt\")\n",
        "    dst = src + \".bak\"\n",
        "    # # now use the shell to make a copy of the file\n",
        "    shutil.copy(src,dst)\n",
        "    \n",
        "    # # copy over the permissions, modification times, and other info\n",
        "    shutil.copystat(src, dst)"
      ],
      "execution_count": null,
      "outputs": []
    },
    {
      "cell_type": "code",
      "metadata": {
        "id": "xQbIMPYag5Gq",
        "colab_type": "code",
        "colab": {}
      },
      "source": [
        "if path.exists(\"textfile.txt\"):\n",
        "    # # rename the original file\n",
        "    os.rename(\"textfile.txt\", \"newfile.txt\")\n",
        "\n",
        "    root_dir,tail = path.split(src)\n",
        "    shutil.make_archive(\"archive\", \"zip\", root_dir)"
      ],
      "execution_count": 11,
      "outputs": []
    },
    {
      "cell_type": "code",
      "metadata": {
        "id": "9VYnwikmhRIt",
        "colab_type": "code",
        "colab": {}
      },
      "source": [
        "with ZipFile(\"testzip.zip\",\"w\") as newzip:\n",
        "    newzip.write(\"newfile.txt\")\n",
        "    newzip.write(\"textfile.txt.bak\")"
      ],
      "execution_count": null,
      "outputs": []
    },
    {
      "cell_type": "markdown",
      "metadata": {
        "id": "QM0xmxtYhZur",
        "colab_type": "text"
      },
      "source": [
        "# working with os.path module"
      ]
    },
    {
      "cell_type": "code",
      "metadata": {
        "id": "ekS45h1_hZhU",
        "colab_type": "code",
        "colab": {}
      },
      "source": [
        "import os\n",
        "from os import path\n",
        "import datetime\n",
        "from datetime import date, time, timedelta\n",
        "import time"
      ],
      "execution_count": 12,
      "outputs": []
    },
    {
      "cell_type": "code",
      "metadata": {
        "id": "scC98MZdhhgt",
        "colab_type": "code",
        "colab": {
          "base_uri": "https://localhost:8080/",
          "height": 34
        },
        "outputId": "77b2a004-8f08-470e-d4c2-2d439a500bc1"
      },
      "source": [
        "print (os.name)"
      ],
      "execution_count": 13,
      "outputs": [
        {
          "output_type": "stream",
          "text": [
            "posix\n"
          ],
          "name": "stdout"
        }
      ]
    },
    {
      "cell_type": "code",
      "metadata": {
        "id": "PnpseIiRhkJR",
        "colab_type": "code",
        "colab": {
          "base_uri": "https://localhost:8080/",
          "height": 68
        },
        "outputId": "639f8563-49af-4310-f9d5-4caaaa1ce0bc"
      },
      "source": [
        "print (\"Item exists: \" + str(path.exists(\"textfile.txt\")))\n",
        "print (\"Item is a file: \" + str(path.isfile(\"textfile.txt\")))\n",
        "print (\"Item is a directory: \" + str(path.isdir(\"textfile.txt\")))"
      ],
      "execution_count": 14,
      "outputs": [
        {
          "output_type": "stream",
          "text": [
            "Item exists: False\n",
            "Item is a file: False\n",
            "Item is a directory: False\n"
          ],
          "name": "stdout"
        }
      ]
    },
    {
      "cell_type": "code",
      "metadata": {
        "id": "b0AntiRfhpC-",
        "colab_type": "code",
        "colab": {
          "base_uri": "https://localhost:8080/",
          "height": 51
        },
        "outputId": "3babbd5c-f9e4-41df-e7a3-6b7ba7063ebe"
      },
      "source": [
        "print (\"Item's path: \" + str(path.realpath(\"textfile.txt\")))\n",
        "print (\"Item's path and name: \" + str(path.split(path.realpath(\"textfile.txt\"))))"
      ],
      "execution_count": 15,
      "outputs": [
        {
          "output_type": "stream",
          "text": [
            "Item's path: /content/textfile.txt\n",
            "Item's path and name: ('/content', 'textfile.txt')\n"
          ],
          "name": "stdout"
        }
      ]
    },
    {
      "cell_type": "code",
      "metadata": {
        "id": "3zmEO-hthtJH",
        "colab_type": "code",
        "colab": {
          "base_uri": "https://localhost:8080/",
          "height": 51
        },
        "outputId": "66595c9e-5351-4acc-a357-362d587778e7"
      },
      "source": [
        "#os.chdir(r\"/content/\")\n",
        "t = time.ctime(path.getmtime(\"newfile.txt\"))\n",
        "print (t)\n",
        "print (datetime.datetime.fromtimestamp(path.getmtime(\"newfile.txt\")))"
      ],
      "execution_count": 23,
      "outputs": [
        {
          "output_type": "stream",
          "text": [
            "Sat Aug  8 19:13:55 2020\n",
            "2020-08-08 19:13:55.132889\n"
          ],
          "name": "stdout"
        }
      ]
    },
    {
      "cell_type": "code",
      "metadata": {
        "id": "SyfQvPSdiRm8",
        "colab_type": "code",
        "colab": {
          "base_uri": "https://localhost:8080/",
          "height": 51
        },
        "outputId": "f6d35946-41de-4e7a-ee55-8e6b59882882"
      },
      "source": [
        "td= datetime.datetime.now() - datetime.datetime.fromtimestamp(path.getmtime(\"newfile.txt\"))\n",
        "print (\"It has been \" + str(td) + \" since the file was modified\")\n",
        "print (\"Or, \" + str(td.total_seconds()) + \" seconds\")"
      ],
      "execution_count": 24,
      "outputs": [
        {
          "output_type": "stream",
          "text": [
            "It has been 0:17:34.263862 since the file was modified\n",
            "Or, 1054.263862 seconds\n"
          ],
          "name": "stdout"
        }
      ]
    }
  ]
}