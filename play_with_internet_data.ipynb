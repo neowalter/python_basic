{
  "nbformat": 4,
  "nbformat_minor": 0,
  "metadata": {
    "colab": {
      "name": "play_with_internet_data.ipynb",
      "provenance": [],
      "authorship_tag": "ABX9TyM5MTKGS8mTVR4Q3etP4Kpx"
    },
    "kernelspec": {
      "name": "python3",
      "display_name": "Python 3"
    }
  },
  "cells": [
    {
      "cell_type": "markdown",
      "metadata": {
        "id": "d9aeaFpvqEHe",
        "colab_type": "text"
      },
      "source": [
        "# retrieving data from the internet"
      ]
    },
    {
      "cell_type": "code",
      "metadata": {
        "id": "33X6gQ_Yp1iH",
        "colab_type": "code",
        "colab": {
          "base_uri": "https://localhost:8080/",
          "height": 71
        },
        "outputId": "acf8dc53-b430-4397-f29d-8e1b0b33062a"
      },
      "source": [
        "import urllib.request\n",
        "\n",
        "webUrl = urllib.request.urlopen(\"http://www.google.com\")\n",
        "print (\"result code: \" + str(webUrl.getcode()))\n",
        "data = webUrl.read()\n",
        "print (data)"
      ],
      "execution_count": 1,
      "outputs": [
        {
          "output_type": "stream",
          "text": [
            "result code: 200\n",
            "b'<!doctype html><html itemscope=\"\" itemtype=\"http://schema.org/WebPage\" lang=\"en\"><head><meta content=\"Search the world\\'s information, including webpages, images, videos and more. Google has many special features to help you find exactly what you\\'re looking for.\" name=\"description\"><meta content=\"noodp\" name=\"robots\"><meta content=\"text/html; charset=UTF-8\" http-equiv=\"Content-Type\"><meta content=\"/images/branding/googleg/1x/googleg_standard_color_128dp.png\" itemprop=\"image\"><title>Google</title><script nonce=\"GfenfFX9kDugu9ocvXDTDA==\">(function(){window.google={kEI:\\'ZwQvX6C2L4SYkwWbpYPQBA\\',kEXPI:\\'0,202123,3,4,32,1151585,5662,730,224,5104,207,3204,10,1226,364,926,573,611,206,383,246,5,1128,226,648,2314,668,469,315,3,369,150,140,92,299,90,181,2,11,323,657,104,343,519,1120069,1197793,405,329069,13677,4855,32692,8162,7085,861,17450,11240,9188,8384,4858,1362,283,9008,3022,4745,11033,1808,4020,978,7931,5297,2054,920,873,1217,2975,2784,3646,1142,13386,4516,2778,919,2277,8,3685,704,1279,2212,532,147,1103,840,517,1466,56,4258,312,1135,1,3,2063,606,2025,544,1231,143,377,1947,245,1964,113,328,1284,16,2927,2246,1813,1787,3227,2845,9,4772,1294,6286,4454,642,2449,3685,1405,337,4929,108,3407,908,2,3555,2397,1027,5308,3312,666,432,3,346,1200,865,1,3917,706,149,189,3313,743,1747,2250,1991,3091,651,4,1528,375,1929,1228,10,269,874,406,1258,601,1817,278,298,74,462,40,242,973,52,75,4,135,1107,95,961,464,459,120,755,6,438,23,15,198,4067,292,1973,86,3,2370,36,874,1426,69,305,2310,1514,1009,290,930,303,518,91,599,1414,128,426,239,306,164,163,594,523,184,308,1064,44,466,187,57,264,198,25,151,738,29,36,175,14,237,71,504,185,376,7,46,32,130,330,9,834,758,339,1370,223,151,504,219,440,23,346,758,653,646,4,72,85,77,2,42,62,52,187,348,89,837,169,3,140,52,947,3,255,255,315,827,69,33,962,8,345,198,137,132,2,2,33,24,182,344,192,321,22,371,760,208,338,587,6,23,340,571,6,11,315,616,10,140,291,5778160,8801915,549,333,444,1,2,80,1,900,896,1,9,2,2551,1,748,141,59,736,563,1,4266,1,2,1017,9,305,3299,248,34,57,34,1,58,17,8,7,15,4,4,4,4,4,4,4,11,13,8,10,4,2,37,3,8,1,1,2,3,83,3501752,20458659,2701893\\',kBL:\\'UZ5F\\'};google.sn=\\'webhp\\';google.kHL=\\'en\\';})();(function(){google.lc=[];google.li=0;google.getEI=function(a){for(var c;a&&(!a.getAttribute||!(c=a.getAttribute(\"eid\")));)a=a.parentNode;return c||google.kEI};google.getLEI=function(a){for(var c=null;a&&(!a.getAttribute||!(c=a.getAttribute(\"leid\")));)a=a.parentNode;return c};google.ml=function(){return null};google.time=function(){return Date.now()};google.log=function(a,c,b,d,g){if(b=google.logUrl(a,c,b,d,g)){a=new Image;var e=google.lc,f=google.li;e[f]=a;a.onerror=a.onload=a.onabort=function(){delete e[f]};google.vel&&google.vel.lu&&google.vel.lu(b);a.src=b;google.li=f+1}};google.logUrl=function(a,c,b,d,g){var e=\"\",f=google.ls||\"\";b||-1!=c.search(\"&ei=\")||(e=\"&ei=\"+google.getEI(d),-1==c.search(\"&lei=\")&&(d=google.getLEI(d))&&(e+=\"&lei=\"+d));d=\"\";!b&&google.cshid&&-1==c.search(\"&cshid=\")&&\"slh\"!=a&&(d=\"&cshid=\"+google.cshid);b=b||\"/\"+(g||\"gen_204\")+\"?atyp=i&ct=\"+a+\"&cad=\"+c+e+f+\"&zx=\"+google.time()+d;/^http:/i.test(b)&&\"https:\"==window.location.protocol&&(google.ml(Error(\"a\"),!1,{src:b,glmm:1}),b=\"\");return b};}).call(this);(function(){google.y={};google.x=function(a,b){if(a)var c=a.id;else{do c=Math.random();while(google.y[c])}google.y[c]=[a,b];return!1};google.lm=[];google.plm=function(a){google.lm.push.apply(google.lm,a)};google.lq=[];google.load=function(a,b,c){google.lq.push([[a],b,c])};google.loadAll=function(a,b){google.lq.push([a,b])};}).call(this);google.f={};(function(){\\ndocument.documentElement.addEventListener(\"submit\",function(b){var a;if(a=b.target){var c=a.getAttribute(\"data-submitfalse\");a=\"1\"==c||\"q\"==c&&!a.elements.q.value?!0:!1}else a=!1;a&&(b.preventDefault(),b.stopPropagation())},!0);document.documentElement.addEventListener(\"click\",function(b){var a;a:{for(a=b.target;a&&a!=document.documentElement;a=a.parentElement)if(\"A\"==a.tagName){a=\"1\"==a.getAttribute(\"data-nohref\");break a}a=!1}a&&b.preventDefault()},!0);}).call(this);\\nvar a=window.location,b=a.href.indexOf(\"#\");if(0<=b){var c=a.href.substring(b+1);/(^|&)q=/.test(c)&&-1==c.indexOf(\"#\")&&a.replace(\"/search?\"+c.replace(/(^|&)fp=[^&]*/g,\"\")+\"&cad=h\")};</script><style>#gbar,#guser{font-size:13px;padding-top:1px !important;}#gbar{height:22px}#guser{padding-bottom:7px !important;text-align:right}.gbh,.gbd{border-top:1px solid #c9d7f1;font-size:1px}.gbh{height:0;position:absolute;top:24px;width:100%}@media all{.gb1{height:22px;margin-right:.5em;vertical-align:top}#gbar{float:left}}a.gb1,a.gb4{text-decoration:underline !important}a.gb1,a.gb4{color:#00c !important}.gbi .gb4{color:#dd8e27 !important}.gbf .gb4{color:#900 !important}\\n</style><style>body,td,a,p,.h{font-family:arial,sans-serif}body{margin:0;overflow-y:scroll}#gog{padding:3px 8px 0}td{line-height:.8em}.gac_m td{line-height:17px}form{margin-bottom:20px}.h{color:#36c}.q{color:#00c}em{font-weight:bold;font-style:normal}.lst{height:25px;width:496px}.gsfi,.lst{font:18px arial,sans-serif}.gsfs{font:17px arial,sans-serif}.ds{display:inline-box;display:inline-block;margin:3px 0 4px;margin-left:4px}input{font-family:inherit}body{background:#fff;color:#000}a{color:#11c;text-decoration:none}a:hover,a:active{text-decoration:underline}.fl a{color:#36c}a:visited{color:#551a8b}.sblc{padding-top:5px}.sblc a{display:block;margin:2px 0;margin-left:13px;font-size:11px}.lsbb{background:#eee;border:solid 1px;border-color:#ccc #999 #999 #ccc;height:30px}.lsbb{display:block}#fll a{display:inline-block;margin:0 12px}.lsb{background:url(/images/nav_logo229.png) 0 -261px repeat-x;border:none;color:#000;cursor:pointer;height:30px;margin:0;outline:0;font:15px arial,sans-serif;vertical-align:top}.lsb:active{background:#ccc}.lst:focus{outline:none}</style><script nonce=\"GfenfFX9kDugu9ocvXDTDA==\"></script></head><body bgcolor=\"#fff\"><script nonce=\"GfenfFX9kDugu9ocvXDTDA==\">(function(){var src=\\'/images/nav_logo229.png\\';var iesg=false;document.body.onload = function(){window.n && window.n();if (document.images){new Image().src=src;}\\nif (!iesg){document.f&&document.f.q.focus();document.gbqf&&document.gbqf.q.focus();}\\n}\\n})();</script><div id=\"mngb\"><div id=gbar><nobr><b class=gb1>Search</b> <a class=gb1 href=\"http://www.google.com/imghp?hl=en&tab=wi\">Images</a> <a class=gb1 href=\"http://maps.google.com/maps?hl=en&tab=wl\">Maps</a> <a class=gb1 href=\"https://play.google.com/?hl=en&tab=w8\">Play</a> <a class=gb1 href=\"http://www.youtube.com/?gl=US&tab=w1\">YouTube</a> <a class=gb1 href=\"http://news.google.com/nwshp?hl=en&tab=wn\">News</a> <a class=gb1 href=\"https://mail.google.com/mail/?tab=wm\">Gmail</a> <a class=gb1 href=\"https://drive.google.com/?tab=wo\">Drive</a> <a class=gb1 style=\"text-decoration:none\" href=\"https://www.google.com/intl/en/about/products?tab=wh\"><u>More</u> &raquo;</a></nobr></div><div id=guser width=100%><nobr><span id=gbn class=gbi></span><span id=gbf class=gbf></span><span id=gbe></span><a href=\"http://www.google.com/history/optout?hl=en\" class=gb4>Web History</a> | <a  href=\"/preferences?hl=en\" class=gb4>Settings</a> | <a target=_top id=gb_70 href=\"https://accounts.google.com/ServiceLogin?hl=en&passive=true&continue=http://www.google.com/\" class=gb4>Sign in</a></nobr></div><div class=gbh style=left:0></div><div class=gbh style=right:0></div></div><center><br clear=\"all\" id=\"lgpd\"><div id=\"lga\"><img alt=\"Google\" height=\"92\" src=\"/images/branding/googlelogo/1x/googlelogo_white_background_color_272x92dp.png\" style=\"padding:28px 0 14px\" width=\"272\" id=\"hplogo\"><br><br></div><form action=\"/search\" name=\"f\"><table cellpadding=\"0\" cellspacing=\"0\"><tr valign=\"top\"><td width=\"25%\">&nbsp;</td><td align=\"center\" nowrap=\"\"><input name=\"ie\" value=\"ISO-8859-1\" type=\"hidden\"><input value=\"en\" name=\"hl\" type=\"hidden\"><input name=\"source\" type=\"hidden\" value=\"hp\"><input name=\"biw\" type=\"hidden\"><input name=\"bih\" type=\"hidden\"><div class=\"ds\" style=\"height:32px;margin:4px 0\"><input class=\"lst\" style=\"margin:0;padding:5px 8px 0 6px;vertical-align:top;color:#000\" autocomplete=\"off\" value=\"\" title=\"Google Search\" maxlength=\"2048\" name=\"q\" size=\"57\"></div><br style=\"line-height:0\"><span class=\"ds\"><span class=\"lsbb\"><input class=\"lsb\" value=\"Google Search\" name=\"btnG\" type=\"submit\"></span></span><span class=\"ds\"><span class=\"lsbb\"><input class=\"lsb\" id=\"tsuid1\" value=\"I\\'m Feeling Lucky\" name=\"btnI\" type=\"submit\"><script nonce=\"GfenfFX9kDugu9ocvXDTDA==\">(function(){var id=\\'tsuid1\\';document.getElementById(id).onclick = function(){if (this.form.q.value){this.checked = 1;if (this.form.iflsig)this.form.iflsig.disabled = false;}\\nelse top.location=\\'/doodles/\\';};})();</script><input value=\"AINFCbYAAAAAXy8Sd9KgnbSypfyIY3N0t4oIvsKlfV-z\" name=\"iflsig\" type=\"hidden\"></span></span></td><td class=\"fl sblc\" align=\"left\" nowrap=\"\" width=\"25%\"><a href=\"/advanced_search?hl=en&amp;authuser=0\">Advanced search</a></td></tr></table><input id=\"gbv\" name=\"gbv\" type=\"hidden\" value=\"1\"><script nonce=\"GfenfFX9kDugu9ocvXDTDA==\">(function(){var a,b=\"1\";if(document&&document.getElementById)if(\"undefined\"!=typeof XMLHttpRequest)b=\"2\";else if(\"undefined\"!=typeof ActiveXObject){var c,d,e=[\"MSXML2.XMLHTTP.6.0\",\"MSXML2.XMLHTTP.3.0\",\"MSXML2.XMLHTTP\",\"Microsoft.XMLHTTP\"];for(c=0;d=e[c++];)try{new ActiveXObject(d),b=\"2\"}catch(h){}}a=b;if(\"2\"==a&&-1==location.search.indexOf(\"&gbv=2\")){var f=google.gbvu,g=document.getElementById(\"gbv\");g&&(g.value=a);f&&window.setTimeout(function(){location.href=f},0)};}).call(this);</script></form><div id=\"gac_scont\"></div><div style=\"font-size:83%;min-height:3.5em\"><br></div><span id=\"footer\"><div style=\"font-size:10pt\"><div style=\"margin:19px auto;text-align:center\" id=\"fll\"><a href=\"/intl/en/ads/\">Advertising\\xa0Programs</a><a href=\"/services/\">Business Solutions</a><a href=\"/intl/en/about.html\">About Google</a></div></div><p style=\"font-size:8pt;color:#767676\">&copy; 2020 - <a href=\"/intl/en/policies/privacy/\">Privacy</a> - <a href=\"/intl/en/policies/terms/\">Terms</a></p></span></center><script nonce=\"GfenfFX9kDugu9ocvXDTDA==\">(function(){window.google.cdo={height:0,width:0};(function(){var a=window.innerWidth,b=window.innerHeight;if(!a||!b){var c=window.document,d=\"CSS1Compat\"==c.compatMode?c.documentElement:c.body;a=d.clientWidth;b=d.clientHeight}a&&b&&(a!=google.cdo.width||b!=google.cdo.height)&&google.log(\"\",\"\",\"/client_204?&atyp=i&biw=\"+a+\"&bih=\"+b+\"&ei=\"+google.kEI);}).call(this);})();(function(){var u=\\'/xjs/_/js/k\\\\x3dxjs.hp.en_US.amwMZBfNcgw.O/m\\\\x3dsb_he,d/am\\\\x3dAJ5gcw/d\\\\x3d1/rs\\\\x3dACT90oHzWCRuKRrfdyKers79RD-48WgdOw\\';\\nsetTimeout(function(){var b=document;var a=\"SCRIPT\";\"application/xhtml+xml\"===b.contentType&&(a=a.toLowerCase());a=b.createElement(a);a.src=u;google.timers&&google.timers.load&&google.tick&&google.tick(\"load\",\"xjsls\");document.body.appendChild(a)},0);})();(function(){window.google.xjsu=\\'/xjs/_/js/k\\\\x3dxjs.hp.en_US.amwMZBfNcgw.O/m\\\\x3dsb_he,d/am\\\\x3dAJ5gcw/d\\\\x3d1/rs\\\\x3dACT90oHzWCRuKRrfdyKers79RD-48WgdOw\\';})();function _DumpException(e){throw e;}\\nfunction _F_installCss(c){}\\n(function(){google.jl={dw:false,em:[],emw:false,lls:\\'default\\',pdt:0,snet:true,uwp:true};})();(function(){var pmc=\\'{\\\\x22d\\\\x22:{},\\\\x22sb_he\\\\x22:{\\\\x22agen\\\\x22:true,\\\\x22cgen\\\\x22:true,\\\\x22client\\\\x22:\\\\x22heirloom-hp\\\\x22,\\\\x22dh\\\\x22:true,\\\\x22dhqt\\\\x22:true,\\\\x22ds\\\\x22:\\\\x22\\\\x22,\\\\x22ffql\\\\x22:\\\\x22en\\\\x22,\\\\x22fl\\\\x22:true,\\\\x22host\\\\x22:\\\\x22google.com\\\\x22,\\\\x22isbh\\\\x22:28,\\\\x22jsonp\\\\x22:true,\\\\x22msgs\\\\x22:{\\\\x22cibl\\\\x22:\\\\x22Clear Search\\\\x22,\\\\x22dym\\\\x22:\\\\x22Did you mean:\\\\x22,\\\\x22lcky\\\\x22:\\\\x22I\\\\\\\\u0026#39;m Feeling Lucky\\\\x22,\\\\x22lml\\\\x22:\\\\x22Learn more\\\\x22,\\\\x22oskt\\\\x22:\\\\x22Input tools\\\\x22,\\\\x22psrc\\\\x22:\\\\x22This search was removed from your \\\\\\\\u003Ca href\\\\x3d\\\\\\\\\\\\x22/history\\\\\\\\\\\\x22\\\\\\\\u003EWeb History\\\\\\\\u003C/a\\\\\\\\u003E\\\\x22,\\\\x22psrl\\\\x22:\\\\x22Remove\\\\x22,\\\\x22sbit\\\\x22:\\\\x22Search by image\\\\x22,\\\\x22srch\\\\x22:\\\\x22Google Search\\\\x22},\\\\x22ovr\\\\x22:{},\\\\x22pq\\\\x22:\\\\x22\\\\x22,\\\\x22refpd\\\\x22:true,\\\\x22rfs\\\\x22:[],\\\\x22sbpl\\\\x22:16,\\\\x22sbpr\\\\x22:16,\\\\x22scd\\\\x22:10,\\\\x22stok\\\\x22:\\\\x22xSHzbjPYPiTYmttfE4znp6Z1JQk\\\\x22,\\\\x22uhde\\\\x22:false}}\\';google.pmc=JSON.parse(pmc);})();</script>        </body></html>'\n"
          ],
          "name": "stdout"
        }
      ]
    },
    {
      "cell_type": "markdown",
      "metadata": {
        "id": "OOqV1ybpqjaq",
        "colab_type": "text"
      },
      "source": [
        "# parsing and processing JSON"
      ]
    },
    {
      "cell_type": "code",
      "metadata": {
        "id": "iLMviuLXqjFw",
        "colab_type": "code",
        "colab": {}
      },
      "source": [
        "import urllib.request \n",
        "import json"
      ],
      "execution_count": 2,
      "outputs": []
    },
    {
      "cell_type": "code",
      "metadata": {
        "id": "TWcQu9sYqyWf",
        "colab_type": "code",
        "colab": {
          "base_uri": "https://localhost:8080/",
          "height": 1000
        },
        "outputId": "a2463f29-6399-47fb-ac69-bf98735c1337"
      },
      "source": [
        "urlData = \"http://earthquake.usgs.gov/earthquakes/feed/v1.0/summary/2.5_day.geojson\"\n",
        "webUrl = urllib.request.urlopen(urlData)\n",
        "\n",
        "if (webUrl.getcode() == 200):\n",
        "    data = webUrl.read()\n",
        "else:\n",
        "    print (\"Received an error from server, cannot retrieve results \" + str(webUrl.getcode()))\n",
        "\n",
        "theJSON = json.loads(data)\n",
        "if \"title\" in theJSON[\"metadata\"]:\n",
        "    print (theJSON[\"metadata\"][\"title\"])\n",
        "\n",
        "count = theJSON[\"metadata\"][\"count\"]\n",
        "print (str(count) + \" events recorded\")\n",
        "\n",
        "for i in theJSON[\"features\"]:\n",
        "    print (i[\"properties\"][\"place\"])\n",
        "print (\"--------------\\n\")\n",
        "\n",
        "for i in theJSON[\"features\"]:\n",
        "    if i[\"properties\"][\"mag\"] >= 4.0:\n",
        "        print (\"%2.1f\" % i[\"properties\"][\"mag\"], i[\"properties\"][\"place\"])\n",
        "print (\"--------------\\n\")\n",
        "\n",
        "print (\"\\n\\nEvents that were felt:\")\n",
        "for i in theJSON[\"features\"]:\n",
        "    feltReports = i[\"properties\"][\"felt\"]\n",
        "    if (feltReports != None):\n",
        "        if (feltReports > 0):\n",
        "            print (\"%2.1f\" % i[\"properties\"][\"mag\"], i[\"properties\"][\"place\"], \n",
        "                   \" reported \" + str(feltReports) + \" times\")"
      ],
      "execution_count": 4,
      "outputs": [
        {
          "output_type": "stream",
          "text": [
            "USGS Magnitude 2.5+ Earthquakes, Past Day\n",
            "47 events recorded\n",
            "32 km SE of Mina, Nevada\n",
            "77 km SSW of Sand Point, Alaska\n",
            "Macquarie Island region\n",
            "12 km NNE of Ferry, Alaska\n",
            "28 km SSW of Tomohon, Indonesia\n",
            "142 km SSW of Komodo, Indonesia\n",
            "81 km SSW of Sand Point, Alaska\n",
            "36 km NW of Stanley, Idaho\n",
            "37 km NW of Stanley, Idaho\n",
            "67 km ESE of King Cove, Alaska\n",
            "central Mid-Atlantic Ridge\n",
            "29km SE of Bodie, CA\n",
            "19km ESE of Little Lake, CA\n",
            "3 km SE of La Parguera, Puerto Rico\n",
            "south of Alaska\n",
            "253 km ESE of Attu Station, Alaska\n",
            "140 km SSW of Komodo, Indonesia\n",
            "143 km W of Waingapu, Indonesia\n",
            "6 km WSW of Guánica, Puerto Rico\n",
            "118 km SSW of Komodo, Indonesia\n",
            "146 km SSE of Dompu, Indonesia\n",
            "123 km SSW of Komodo, Indonesia\n",
            "42 km WNW of San Antonio de los Cobres, Argentina\n",
            "46 km S of Tobelo, Indonesia\n",
            "3 km SSE of La Parguera, Puerto Rico\n",
            "off the coast of Oregon\n",
            "243 km WSW of Qamdo, China\n",
            "42 km ESE of Takahagi, Japan\n",
            "12 km SW of Stanley, Idaho\n",
            "150 km SSW of Singkil, Indonesia\n",
            "63 km SSW of Shungnak, Alaska\n",
            "11 km NW of Summit, Utah\n",
            "13 km SW of Stanley, Idaho\n",
            "59 km S of Wakefield, New Zealand\n",
            "47 km SE of Yurimaguas, Peru\n",
            "7 km WSW of Guánica, Puerto Rico\n",
            "20km NW of Truckee, CA\n",
            "14 km SSW of Junín, Peru\n",
            "13 km WSW of Stanley, Idaho\n",
            "59 km S of Ürümqi, China\n",
            "41 km ESE of Los Andes, Chile\n",
            "149 km NNE of Calama, Chile\n",
            "48 km S of Shungnak, Alaska\n",
            "89 km NE of Punta Cana, Dominican Republic\n",
            "Fiji region\n",
            "8 km SW of Guánica, Puerto Rico\n",
            "3 km SW of Indios, Puerto Rico\n",
            "--------------\n",
            "\n",
            "4.8 Macquarie Island region\n",
            "4.9 28 km SSW of Tomohon, Indonesia\n",
            "4.9 142 km SSW of Komodo, Indonesia\n",
            "5.5 67 km ESE of King Cove, Alaska\n",
            "4.9 central Mid-Atlantic Ridge\n",
            "5.3 south of Alaska\n",
            "4.4 253 km ESE of Attu Station, Alaska\n",
            "4.2 140 km SSW of Komodo, Indonesia\n",
            "5.3 143 km W of Waingapu, Indonesia\n",
            "5.0 118 km SSW of Komodo, Indonesia\n",
            "4.8 146 km SSE of Dompu, Indonesia\n",
            "5.1 123 km SSW of Komodo, Indonesia\n",
            "4.4 42 km WNW of San Antonio de los Cobres, Argentina\n",
            "4.6 46 km S of Tobelo, Indonesia\n",
            "4.9 243 km WSW of Qamdo, China\n",
            "4.4 42 km ESE of Takahagi, Japan\n",
            "4.5 150 km SSW of Singkil, Indonesia\n",
            "4.3 59 km S of Wakefield, New Zealand\n",
            "4.3 47 km SE of Yurimaguas, Peru\n",
            "5.0 14 km SSW of Junín, Peru\n",
            "4.2 13 km WSW of Stanley, Idaho\n",
            "5.3 59 km S of Ürümqi, China\n",
            "4.7 41 km ESE of Los Andes, Chile\n",
            "4.1 149 km NNE of Calama, Chile\n",
            "4.5 Fiji region\n",
            "--------------\n",
            "\n",
            "\n",
            "\n",
            "Events that were felt:\n",
            "4.8 Macquarie Island region  reported 1 times\n",
            "2.8 37 km NW of Stanley, Idaho  reported 1 times\n",
            "5.5 67 km ESE of King Cove, Alaska  reported 3 times\n",
            "3.6 off the coast of Oregon  reported 4 times\n",
            "2.9 11 km NW of Summit, Utah  reported 1 times\n",
            "3.0 13 km SW of Stanley, Idaho  reported 1 times\n",
            "4.3 59 km S of Wakefield, New Zealand  reported 9 times\n",
            "5.0 14 km SSW of Junín, Peru  reported 4 times\n",
            "4.2 13 km WSW of Stanley, Idaho  reported 212 times\n",
            "5.3 59 km S of Ürümqi, China  reported 1 times\n",
            "4.7 41 km ESE of Los Andes, Chile  reported 14 times\n"
          ],
          "name": "stdout"
        }
      ]
    },
    {
      "cell_type": "markdown",
      "metadata": {
        "id": "RVQ31aKPsZLz",
        "colab_type": "text"
      },
      "source": [
        "# parsing and processing XML"
      ]
    },
    {
      "cell_type": "code",
      "metadata": {
        "id": "MzLEOWNgspIl",
        "colab_type": "code",
        "colab": {}
      },
      "source": [
        "import xml.dom.minidom\n",
        "\n",
        "doc = xml.dom.minidom.parse(\"samplexml.xml\")"
      ],
      "execution_count": 10,
      "outputs": []
    },
    {
      "cell_type": "code",
      "metadata": {
        "id": "XY7DY5jdurUe",
        "colab_type": "code",
        "colab": {
          "base_uri": "https://localhost:8080/",
          "height": 238
        },
        "outputId": "e7348ba5-421d-4981-910d-49b8b2ed7be3"
      },
      "source": [
        "print (doc.nodeName)\n",
        "print (doc.firstChild.tagName)\n",
        "\n",
        "skills = doc.getElementsByTagName(\"skill\")\n",
        "print (\"%d skills:\" % skills.length)\n",
        "for skill in skills:\n",
        "    print (skill.getAttribute(\"name\"))\n",
        "\n",
        "newSkill = doc.createElement(\"skill\")\n",
        "newSkill.setAttribute(\"name\", \"jQuery\")\n",
        "doc.firstChild.appendChild(newSkill)\n",
        "\n",
        "skills = doc.getElementsByTagName(\"skill\")\n",
        "print (\"%d skills:\" % skills.length)\n",
        "for skill in skills:\n",
        "    print (skill.getAttribute(\"name\"))"
      ],
      "execution_count": 11,
      "outputs": [
        {
          "output_type": "stream",
          "text": [
            "#document\n",
            "person\n",
            "4 skills:\n",
            "JavaScript\n",
            "Python\n",
            "C#\n",
            "HTML\n",
            "5 skills:\n",
            "JavaScript\n",
            "Python\n",
            "C#\n",
            "HTML\n",
            "jQuery\n"
          ],
          "name": "stdout"
        }
      ]
    },
    {
      "cell_type": "markdown",
      "metadata": {
        "id": "il1h0azNvObn",
        "colab_type": "text"
      },
      "source": [
        "# parsing and processing HTML"
      ]
    },
    {
      "cell_type": "code",
      "metadata": {
        "id": "4nNMkqAlvQvT",
        "colab_type": "code",
        "colab": {
          "base_uri": "https://localhost:8080/",
          "height": 1000
        },
        "outputId": "ac339989-ddf4-497b-e380-3907b176f5d3"
      },
      "source": [
        "from html.parser import HTMLParser\n",
        "import urllib.request\n",
        "\n",
        "\n",
        "f = open(\"samplehtml.html\")\n",
        "if f.mode == \"r\":\n",
        "    contents = f.read() # read the entire file\n",
        "    parser.feed(contents)\n",
        "\n",
        "parser = HTMLParser()\n",
        "\n",
        "\n",
        "metacount = 0;\n",
        "class MyHTMLParser(HTMLParser):\n",
        "  # function to handle an opening tag in the doc\n",
        "  # this will be called when the closing \">\" of the tag is reached\n",
        "  def handle_starttag(self, tag, attrs):\n",
        "    global metacount\n",
        "    if tag == \"meta\":\n",
        "      metacount += 1\n",
        "\n",
        "    print (\"Encountered a start tag:\", tag)\n",
        "    pos = self.getpos() # returns a tuple indication line and character\n",
        "    print (\"\\tAt line: \", pos[0], \" position \", pos[1])\n",
        "\n",
        "    if attrs.__len__() > 0:\n",
        "      print (\"\\tAttributes:\")\n",
        "      for a in attrs:\n",
        "        print (\"\\t\", a[0],\"=\",a[1])\n",
        "      \n",
        "  # function to handle the ending tag\n",
        "  def handle_endtag(self, tag):\n",
        "    print (\"Encountered an end tag:\", tag)\n",
        "    pos = self.getpos()\n",
        "    print (\"\\tAt line: \", pos[0], \" position \", pos[1])\n",
        "    \n",
        "  # function to handle character and text data (tag contents)\n",
        "  def handle_data(self, data):\n",
        "    if (data.isspace()):\n",
        "      return\n",
        "    print (\"Encountered some text data:\", data)\n",
        "    pos = self.getpos()\n",
        "    print (\"\\tAt line: \", pos[0], \" position \", pos[1])\n",
        "  \n",
        "  # function to handle the processing of HTML comments\n",
        "  def handle_comment(self, data):\n",
        "    print (\"Encountered comment:\", data)\n",
        "    pos = self.getpos()\n",
        "    print (\"\\tAt line: \", pos[0], \" position \", pos[1])\n",
        "\n",
        "\n",
        "parser = MyHTMLParser()\n",
        "\n",
        "print (\"%d meta tags encountered\" % metacount)"
      ],
      "execution_count": 16,
      "outputs": [
        {
          "output_type": "stream",
          "text": [
            "Encountered a start tag: html\n",
            "\tAt line:  2  position  0\n",
            "\tAttributes:\n",
            "\t lang = en\n",
            "Encountered a start tag: head\n",
            "\tAt line:  3  position  2\n",
            "Encountered a start tag: meta\n",
            "\tAt line:  4  position  4\n",
            "\tAttributes:\n",
            "\t charset = utf-8\n",
            "Encountered an end tag: meta\n",
            "\tAt line:  4  position  4\n",
            "Encountered a start tag: title\n",
            "\tAt line:  5  position  4\n",
            "Encountered some text data: Sample HTML Document\n",
            "\tAt line:  5  position  11\n",
            "Encountered an end tag: title\n",
            "\tAt line:  5  position  31\n",
            "Encountered a start tag: meta\n",
            "\tAt line:  6  position  4\n",
            "\tAttributes:\n",
            "\t name = description\n",
            "\t content = This is a sample HTML file\n",
            "Encountered an end tag: meta\n",
            "\tAt line:  6  position  4\n",
            "Encountered a start tag: meta\n",
            "\tAt line:  7  position  4\n",
            "\tAttributes:\n",
            "\t name = author\n",
            "\t content = Administrator\n",
            "Encountered an end tag: meta\n",
            "\tAt line:  7  position  4\n",
            "Encountered a start tag: meta\n",
            "\tAt line:  8  position  4\n",
            "\tAttributes:\n",
            "\t name = viewport\n",
            "\t content = width=device-width; initial-scale=1.0\n",
            "Encountered an end tag: meta\n",
            "\tAt line:  8  position  4\n",
            "Encountered comment:  Replace favicon.ico & apple-touch-icon.png in the root of your domain and delete these references \n",
            "\tAt line:  9  position  4\n",
            "Encountered a start tag: link\n",
            "\tAt line:  10  position  4\n",
            "\tAttributes:\n",
            "\t rel = shortcut icon\n",
            "\t href = /favicon.ico\n",
            "Encountered an end tag: link\n",
            "\tAt line:  10  position  4\n",
            "Encountered a start tag: link\n",
            "\tAt line:  11  position  4\n",
            "\tAttributes:\n",
            "\t rel = apple-touch-icon\n",
            "\t href = /apple-touch-icon.png\n",
            "Encountered an end tag: link\n",
            "\tAt line:  11  position  4\n",
            "Encountered an end tag: head\n",
            "\tAt line:  12  position  2\n",
            "Encountered a start tag: body\n",
            "\tAt line:  14  position  2\n",
            "Encountered a start tag: div\n",
            "\tAt line:  15  position  4\n",
            "Encountered a start tag: header\n",
            "\tAt line:  16  position  6\n",
            "Encountered a start tag: h1\n",
            "\tAt line:  17  position  8\n",
            "Encountered some text data: HTML Sample File\n",
            "\tAt line:  17  position  12\n",
            "Encountered an end tag: h1\n",
            "\tAt line:  17  position  28\n",
            "Encountered an end tag: header\n",
            "\tAt line:  18  position  6\n",
            "Encountered a start tag: nav\n",
            "\tAt line:  19  position  6\n",
            "Encountered a start tag: p\n",
            "\tAt line:  20  position  8\n",
            "Encountered a start tag: a\n",
            "\tAt line:  21  position  10\n",
            "\tAttributes:\n",
            "\t href = /\n",
            "Encountered some text data: Home\n",
            "\tAt line:  21  position  22\n",
            "Encountered an end tag: a\n",
            "\tAt line:  21  position  26\n",
            "Encountered an end tag: p\n",
            "\tAt line:  22  position  8\n",
            "Encountered a start tag: p\n",
            "\tAt line:  23  position  8\n",
            "Encountered a start tag: a\n",
            "\tAt line:  24  position  10\n",
            "\tAttributes:\n",
            "\t href = /contact\n",
            "Encountered some text data: Contact\n",
            "\tAt line:  24  position  29\n",
            "Encountered an end tag: a\n",
            "\tAt line:  24  position  36\n",
            "Encountered an end tag: p\n",
            "\tAt line:  25  position  8\n",
            "Encountered an end tag: nav\n",
            "\tAt line:  26  position  6\n",
            "Encountered a start tag: div\n",
            "\tAt line:  27  position  6\n",
            "Encountered an end tag: div\n",
            "\tAt line:  29  position  6\n",
            "Encountered a start tag: footer\n",
            "\tAt line:  30  position  6\n",
            "Encountered a start tag: p\n",
            "\tAt line:  31  position  8\n",
            "Encountered some text data: © Copyright by Administrator\n",
            "\tAt line:  31  position  11\n",
            "Encountered an end tag: p\n",
            "\tAt line:  31  position  44\n",
            "Encountered an end tag: footer\n",
            "\tAt line:  32  position  6\n",
            "Encountered an end tag: div\n",
            "\tAt line:  33  position  4\n",
            "Encountered an end tag: body\n",
            "\tAt line:  34  position  2\n",
            "Encountered an end tag: html\n",
            "\tAt line:  35  position  0\n",
            "0 meta tags encountered\n"
          ],
          "name": "stdout"
        }
      ]
    }
  ]
}