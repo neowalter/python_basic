{
  "nbformat": 4,
  "nbformat_minor": 0,
  "metadata": {
    "colab": {
      "name": "play_with_time.ipynb",
      "provenance": [],
      "collapsed_sections": [
        "lto1U7VCtRzJ",
        "5qlMPHv0t7n7",
        "4-EtsoB4p_vq",
        "GLZFmFU7upJ7"
      ],
      "authorship_tag": "ABX9TyMvqzSt5/yixvF14eYSpelo"
    },
    "kernelspec": {
      "name": "python3",
      "display_name": "Python 3"
    }
  },
  "cells": [
    {
      "cell_type": "markdown",
      "metadata": {
        "id": "lto1U7VCtRzJ",
        "colab_type": "text"
      },
      "source": [
        "# working with date information"
      ]
    },
    {
      "cell_type": "code",
      "metadata": {
        "id": "u093XHyItVd3",
        "colab_type": "code",
        "colab": {}
      },
      "source": [
        "from datetime import date\n",
        "from datetime import time\n",
        "from datetime import datetime"
      ],
      "execution_count": 13,
      "outputs": []
    },
    {
      "cell_type": "code",
      "metadata": {
        "id": "NQ2gtSIRtYi4",
        "colab_type": "code",
        "colab": {
          "base_uri": "https://localhost:8080/",
          "height": 0
        },
        "outputId": "16a7b22b-9557-4eca-f9bf-884d8a8528f0"
      },
      "source": [
        "today = date.today()\n",
        "print (\"Today's date is \", today)"
      ],
      "execution_count": 14,
      "outputs": [
        {
          "output_type": "stream",
          "text": [
            "Today's date is  2020-08-06\n"
          ],
          "name": "stdout"
        }
      ]
    },
    {
      "cell_type": "code",
      "metadata": {
        "id": "yx3yEjYGtYka",
        "colab_type": "code",
        "colab": {
          "base_uri": "https://localhost:8080/",
          "height": 0
        },
        "outputId": "880fb54d-965a-4818-c5ae-173e223aca1f"
      },
      "source": [
        "print (\"Date Components: \", today.day, today.month, today.year)"
      ],
      "execution_count": 15,
      "outputs": [
        {
          "output_type": "stream",
          "text": [
            "Date Components:  6 8 2020\n"
          ],
          "name": "stdout"
        }
      ]
    },
    {
      "cell_type": "code",
      "metadata": {
        "id": "d2iX-jX9tiRv",
        "colab_type": "code",
        "colab": {
          "base_uri": "https://localhost:8080/",
          "height": 0
        },
        "outputId": "dc125c70-8323-48fa-bd66-1942727fb8e6"
      },
      "source": [
        "# (0=Monday, 6=Sunday)\n",
        "print (\"Today's Weekday #: \", today.weekday())\n",
        "days = [\"monday\",\"tuesday\",\"wednesday\",\"thursday\",\"friday\",\"saturday\",\"sunday\"]\n",
        "print (\"Which is a \" + days[today.weekday()])"
      ],
      "execution_count": 16,
      "outputs": [
        {
          "output_type": "stream",
          "text": [
            "Today's Weekday #:  3\n",
            "Which is a thursday\n"
          ],
          "name": "stdout"
        }
      ]
    },
    {
      "cell_type": "code",
      "metadata": {
        "id": "ms6WzIq4tqJr",
        "colab_type": "code",
        "colab": {
          "base_uri": "https://localhost:8080/",
          "height": 0
        },
        "outputId": "5761c827-3f27-49e8-d464-22534e1e4018"
      },
      "source": [
        "today = datetime.now()\n",
        "print  (\"The current date and time is \", today)"
      ],
      "execution_count": 17,
      "outputs": [
        {
          "output_type": "stream",
          "text": [
            "The current date and time is  2020-08-06 21:39:36.316529\n"
          ],
          "name": "stdout"
        }
      ]
    },
    {
      "cell_type": "code",
      "metadata": {
        "id": "Ye3-MRKPt2ZT",
        "colab_type": "code",
        "colab": {
          "base_uri": "https://localhost:8080/",
          "height": 0
        },
        "outputId": "d2ee37d1-fa95-4a81-b741-7fbd5d8ec79c"
      },
      "source": [
        "t = datetime.time(datetime.now())\n",
        "print (\"The current time is \", t)"
      ],
      "execution_count": 18,
      "outputs": [
        {
          "output_type": "stream",
          "text": [
            "The current time is  21:40:06.405936\n"
          ],
          "name": "stdout"
        }
      ]
    },
    {
      "cell_type": "markdown",
      "metadata": {
        "id": "5qlMPHv0t7n7",
        "colab_type": "text"
      },
      "source": [
        "# formatting time and date output"
      ]
    },
    {
      "cell_type": "code",
      "metadata": {
        "id": "lypmD_3ouB6E",
        "colab_type": "code",
        "colab": {}
      },
      "source": [
        "from datetime import datetime\n",
        "\n",
        "now = datetime.now()"
      ],
      "execution_count": 19,
      "outputs": []
    },
    {
      "cell_type": "code",
      "metadata": {
        "id": "EE_WIXgNuGC9",
        "colab_type": "code",
        "colab": {
          "base_uri": "https://localhost:8080/",
          "height": 0
        },
        "outputId": "fb89a1c5-5d83-4e6d-f82f-a0746ea29d1e"
      },
      "source": [
        "# %y/%Y - Year, %a/%A - weekday, %b/%B - month, %d - day of month\n",
        "print (now.strftime(\"The current year is: %Y\")) # full year with century\n",
        "print (now.strftime(\"%a, %d %B, %y\")) # abbreviated day, num, full month, abbreviated year"
      ],
      "execution_count": 20,
      "outputs": [
        {
          "output_type": "stream",
          "text": [
            "The current year is: 2020\n",
            "Thu, 06 August, 20\n"
          ],
          "name": "stdout"
        }
      ]
    },
    {
      "cell_type": "code",
      "metadata": {
        "id": "yZD9IccguWhH",
        "colab_type": "code",
        "colab": {
          "base_uri": "https://localhost:8080/",
          "height": 0
        },
        "outputId": "99979c02-8d2b-438c-a9bb-6fa2583d93d0"
      },
      "source": [
        "# %c - locale's date and time, %x - locale's date, %X - locale's time\n",
        "print (now.strftime(\"Locale date and time: %c\"))\n",
        "print (now.strftime(\"Locale date: %x\"))\n",
        "print (now.strftime(\"Locale time: %X\"))"
      ],
      "execution_count": 21,
      "outputs": [
        {
          "output_type": "stream",
          "text": [
            "Locale date and time: Thu Aug  6 21:41:57 2020\n",
            "Locale date: 08/06/20\n",
            "Locale time: 21:41:57\n"
          ],
          "name": "stdout"
        }
      ]
    },
    {
      "cell_type": "code",
      "metadata": {
        "id": "Izq0-xT7ufVe",
        "colab_type": "code",
        "colab": {
          "base_uri": "https://localhost:8080/",
          "height": 0
        },
        "outputId": "6a25e88b-5c63-4120-b4a4-2110b29ac4bc"
      },
      "source": [
        "# %I/%H - 12/24 Hour, %M - minute, %S - second, %p - locale's AM/PM\n",
        "print (now.strftime(\"Current time: %I:%M:%S %p\")) # 12-Hour:Minute:Second:AM\n",
        "print (now.strftime(\"24-hour time: %H:%M\")) # 24-Hour:Minute"
      ],
      "execution_count": 22,
      "outputs": [
        {
          "output_type": "stream",
          "text": [
            "Current time: 09:41:57 PM\n",
            "24-hour time: 21:41\n"
          ],
          "name": "stdout"
        }
      ]
    },
    {
      "cell_type": "markdown",
      "metadata": {
        "id": "4-EtsoB4p_vq",
        "colab_type": "text"
      },
      "source": [
        "# working with Calendars"
      ]
    },
    {
      "cell_type": "code",
      "metadata": {
        "id": "61OiAo5Jpgno",
        "colab_type": "code",
        "colab": {}
      },
      "source": [
        "import calendar"
      ],
      "execution_count": 2,
      "outputs": []
    },
    {
      "cell_type": "markdown",
      "metadata": {
        "id": "0ZPiNk5VqHPi",
        "colab_type": "text"
      },
      "source": [
        "plain text calendar"
      ]
    },
    {
      "cell_type": "code",
      "metadata": {
        "id": "lKHWM_EoqJM4",
        "colab_type": "code",
        "colab": {
          "base_uri": "https://localhost:8080/",
          "height": 153
        },
        "outputId": "97462094-ef6c-4409-9ec8-cb2a14025602"
      },
      "source": [
        "c = calendar.TextCalendar(calendar.SUNDAY)\n",
        "str = c.formatmonth(2020, 1, 0, 0)\n",
        "print (str)"
      ],
      "execution_count": 3,
      "outputs": [
        {
          "output_type": "stream",
          "text": [
            "    January 2020\n",
            "Su Mo Tu We Th Fr Sa\n",
            "          1  2  3  4\n",
            " 5  6  7  8  9 10 11\n",
            "12 13 14 15 16 17 18\n",
            "19 20 21 22 23 24 25\n",
            "26 27 28 29 30 31\n",
            "\n"
          ],
          "name": "stdout"
        }
      ]
    },
    {
      "cell_type": "markdown",
      "metadata": {
        "id": "H8DnCRCDqT1q",
        "colab_type": "text"
      },
      "source": [
        "HTML formatted calendar"
      ]
    },
    {
      "cell_type": "code",
      "metadata": {
        "id": "eTn1pcGdqSHh",
        "colab_type": "code",
        "colab": {
          "base_uri": "https://localhost:8080/",
          "height": 187
        },
        "outputId": "811dec2d-19c7-4c45-c84f-d8d22747b80e"
      },
      "source": [
        "hc = calendar.HTMLCalendar(calendar.SUNDAY)\n",
        "str = hc.formatmonth(2017, 1)\n",
        "print (str)"
      ],
      "execution_count": 4,
      "outputs": [
        {
          "output_type": "stream",
          "text": [
            "<table border=\"0\" cellpadding=\"0\" cellspacing=\"0\" class=\"month\">\n",
            "<tr><th colspan=\"7\" class=\"month\">January 2017</th></tr>\n",
            "<tr><th class=\"sun\">Sun</th><th class=\"mon\">Mon</th><th class=\"tue\">Tue</th><th class=\"wed\">Wed</th><th class=\"thu\">Thu</th><th class=\"fri\">Fri</th><th class=\"sat\">Sat</th></tr>\n",
            "<tr><td class=\"sun\">1</td><td class=\"mon\">2</td><td class=\"tue\">3</td><td class=\"wed\">4</td><td class=\"thu\">5</td><td class=\"fri\">6</td><td class=\"sat\">7</td></tr>\n",
            "<tr><td class=\"sun\">8</td><td class=\"mon\">9</td><td class=\"tue\">10</td><td class=\"wed\">11</td><td class=\"thu\">12</td><td class=\"fri\">13</td><td class=\"sat\">14</td></tr>\n",
            "<tr><td class=\"sun\">15</td><td class=\"mon\">16</td><td class=\"tue\">17</td><td class=\"wed\">18</td><td class=\"thu\">19</td><td class=\"fri\">20</td><td class=\"sat\">21</td></tr>\n",
            "<tr><td class=\"sun\">22</td><td class=\"mon\">23</td><td class=\"tue\">24</td><td class=\"wed\">25</td><td class=\"thu\">26</td><td class=\"fri\">27</td><td class=\"sat\">28</td></tr>\n",
            "<tr><td class=\"sun\">29</td><td class=\"mon\">30</td><td class=\"tue\">31</td><td class=\"noday\">&nbsp;</td><td class=\"noday\">&nbsp;</td><td class=\"noday\">&nbsp;</td><td class=\"noday\">&nbsp;</td></tr>\n",
            "</table>\n",
            "\n"
          ],
          "name": "stdout"
        }
      ]
    },
    {
      "cell_type": "markdown",
      "metadata": {
        "id": "6R218Lr7qdba",
        "colab_type": "text"
      },
      "source": [
        "other function"
      ]
    },
    {
      "cell_type": "code",
      "metadata": {
        "id": "NsdfOmuZqfCM",
        "colab_type": "code",
        "colab": {
          "base_uri": "https://localhost:8080/",
          "height": 731
        },
        "outputId": "837494ed-d8e7-408b-e76d-52a70ba79685"
      },
      "source": [
        "for i in c.itermonthdays(2020, 8):\n",
        "    print (i)"
      ],
      "execution_count": 6,
      "outputs": [
        {
          "output_type": "stream",
          "text": [
            "0\n",
            "0\n",
            "0\n",
            "0\n",
            "0\n",
            "0\n",
            "1\n",
            "2\n",
            "3\n",
            "4\n",
            "5\n",
            "6\n",
            "7\n",
            "8\n",
            "9\n",
            "10\n",
            "11\n",
            "12\n",
            "13\n",
            "14\n",
            "15\n",
            "16\n",
            "17\n",
            "18\n",
            "19\n",
            "20\n",
            "21\n",
            "22\n",
            "23\n",
            "24\n",
            "25\n",
            "26\n",
            "27\n",
            "28\n",
            "29\n",
            "30\n",
            "31\n",
            "0\n",
            "0\n",
            "0\n",
            "0\n",
            "0\n"
          ],
          "name": "stdout"
        }
      ]
    },
    {
      "cell_type": "code",
      "metadata": {
        "id": "V9fhPBLWqlyC",
        "colab_type": "code",
        "colab": {
          "base_uri": "https://localhost:8080/",
          "height": 238
        },
        "outputId": "4b5e7373-4ec5-446e-f90f-dc87048e2ab0"
      },
      "source": [
        "for name in calendar.month_name:\n",
        "    print (name)"
      ],
      "execution_count": 7,
      "outputs": [
        {
          "output_type": "stream",
          "text": [
            "\n",
            "January\n",
            "February\n",
            "March\n",
            "April\n",
            "May\n",
            "June\n",
            "July\n",
            "August\n",
            "September\n",
            "October\n",
            "November\n",
            "December\n"
          ],
          "name": "stdout"
        }
      ]
    },
    {
      "cell_type": "code",
      "metadata": {
        "id": "-5_vBRxSqwhz",
        "colab_type": "code",
        "colab": {
          "base_uri": "https://localhost:8080/",
          "height": 136
        },
        "outputId": "ba543d38-b159-4a24-aa3a-d0c372e222fe"
      },
      "source": [
        "for day in calendar.day_name:\n",
        "    print (day)"
      ],
      "execution_count": 8,
      "outputs": [
        {
          "output_type": "stream",
          "text": [
            "Monday\n",
            "Tuesday\n",
            "Wednesday\n",
            "Thursday\n",
            "Friday\n",
            "Saturday\n",
            "Sunday\n"
          ],
          "name": "stdout"
        }
      ]
    },
    {
      "cell_type": "markdown",
      "metadata": {
        "id": "dJsJg58iq-Jh",
        "colab_type": "text"
      },
      "source": [
        "Calculate days based on a rule"
      ]
    },
    {
      "cell_type": "code",
      "metadata": {
        "id": "G3Hka0EKq9in",
        "colab_type": "code",
        "colab": {
          "base_uri": "https://localhost:8080/",
          "height": 238
        },
        "outputId": "5acfae99-1e8e-4cab-9930-9692963669de"
      },
      "source": [
        "print (\"Team meetings will be on:\")\n",
        "for m in range(1,13):\n",
        "  # returns an array of weeks that represent the month\n",
        "  cal = calendar.monthcalendar(2020, m)\n",
        "  # The first Friday has to be within the first two weeks\n",
        "  weekone = cal[0]\n",
        "  weektwo = cal[1]\n",
        "   \n",
        "  if weekone[calendar.FRIDAY] != 0:\n",
        "    meetday = weekone[calendar.FRIDAY]\n",
        "  else:\n",
        "    # if the first friday isn't in the first week, it must be in the second\n",
        "    meetday = weektwo[calendar.FRIDAY]\n",
        "      \n",
        "  print(\"%10s %2d\" % (calendar.month_name[m], meetday))\n"
      ],
      "execution_count": 11,
      "outputs": [
        {
          "output_type": "stream",
          "text": [
            "Team meetings will be on:\n",
            "   January  3\n",
            "  February  7\n",
            "     March  6\n",
            "     April  3\n",
            "       May  1\n",
            "      June  5\n",
            "      July  3\n",
            "    August  7\n",
            " September  4\n",
            "   October  2\n",
            "  November  6\n",
            "  December  4\n"
          ],
          "name": "stdout"
        }
      ]
    },
    {
      "cell_type": "markdown",
      "metadata": {
        "id": "GLZFmFU7upJ7",
        "colab_type": "text"
      },
      "source": [
        "# working with timedelta objects"
      ]
    },
    {
      "cell_type": "code",
      "metadata": {
        "id": "3fbHuv4Tuso-",
        "colab_type": "code",
        "colab": {}
      },
      "source": [
        "from datetime import date\n",
        "from datetime import time\n",
        "from datetime import datetime\n",
        "from datetime import timedelta"
      ],
      "execution_count": 23,
      "outputs": []
    },
    {
      "cell_type": "code",
      "metadata": {
        "id": "VpiEbtnduuek",
        "colab_type": "code",
        "colab": {
          "base_uri": "https://localhost:8080/",
          "height": 34
        },
        "outputId": "ba643219-0e8b-4c8e-b8b5-a584173a4a66"
      },
      "source": [
        "# construct a basic timedelta and print it\n",
        "print (timedelta(days=365, hours=5, minutes=1))"
      ],
      "execution_count": 24,
      "outputs": [
        {
          "output_type": "stream",
          "text": [
            "365 days, 5:01:00\n"
          ],
          "name": "stdout"
        }
      ]
    },
    {
      "cell_type": "code",
      "metadata": {
        "id": "Tsg7R5F3vV2d",
        "colab_type": "code",
        "colab": {}
      },
      "source": [
        "del str"
      ],
      "execution_count": 27,
      "outputs": []
    },
    {
      "cell_type": "code",
      "metadata": {
        "id": "tSwh8JcduxwP",
        "colab_type": "code",
        "colab": {
          "base_uri": "https://localhost:8080/",
          "height": 34
        },
        "outputId": "b67a662f-55c3-45ef-d069-4487ba17c24b"
      },
      "source": [
        "# print today's date\n",
        "now = datetime.now()\n",
        "print (\"today is: \" + str(now))"
      ],
      "execution_count": 28,
      "outputs": [
        {
          "output_type": "stream",
          "text": [
            "today is: 2020-08-06 21:46:31.938670\n"
          ],
          "name": "stdout"
        }
      ]
    },
    {
      "cell_type": "code",
      "metadata": {
        "id": "IOtgash2vZSS",
        "colab_type": "code",
        "colab": {
          "base_uri": "https://localhost:8080/",
          "height": 34
        },
        "outputId": "506e1bea-a261-4da6-c93f-08c31b8d5d2a"
      },
      "source": [
        "# print today's date one year from now\n",
        "print (\"one year from now it will be: \" + str(now + timedelta(days=365)))"
      ],
      "execution_count": 29,
      "outputs": [
        {
          "output_type": "stream",
          "text": [
            "one year from now it will be: 2021-08-06 21:46:31.938670\n"
          ],
          "name": "stdout"
        }
      ]
    },
    {
      "cell_type": "code",
      "metadata": {
        "id": "l4QrgcJjvdPv",
        "colab_type": "code",
        "colab": {
          "base_uri": "https://localhost:8080/",
          "height": 34
        },
        "outputId": "fa80281e-49ce-44c4-8836-ec68166e6e10"
      },
      "source": [
        "# create a timedelta that uses more than one argument\n",
        "print (\"in two weeks and 3 days it will be: \" + str(now + timedelta(weeks=2, days=3)))"
      ],
      "execution_count": 30,
      "outputs": [
        {
          "output_type": "stream",
          "text": [
            "in two weeks and 3 days it will be: 2020-08-23 21:46:31.938670\n"
          ],
          "name": "stdout"
        }
      ]
    },
    {
      "cell_type": "code",
      "metadata": {
        "id": "1ZPO0BozviC1",
        "colab_type": "code",
        "colab": {
          "base_uri": "https://localhost:8080/",
          "height": 34
        },
        "outputId": "3c51dba7-2525-41cb-ea50-07d0f5f5a2ae"
      },
      "source": [
        "# calculate the date 1 week ago, formatted as a string\n",
        "t = datetime.now() - timedelta(weeks=1)\n",
        "s = t.strftime(\"%A %B %d, %Y\")\n",
        "print (\"one week ago it was \" + s)"
      ],
      "execution_count": 31,
      "outputs": [
        {
          "output_type": "stream",
          "text": [
            "one week ago it was Thursday July 30, 2020\n"
          ],
          "name": "stdout"
        }
      ]
    },
    {
      "cell_type": "code",
      "metadata": {
        "id": "OidcmRwJvlwS",
        "colab_type": "code",
        "colab": {
          "base_uri": "https://localhost:8080/",
          "height": 51
        },
        "outputId": "341b491b-34f2-491d-89a3-0a4869e2e383"
      },
      "source": [
        "### How many days until April Fools' Day?\n",
        "\n",
        "today = date.today()  # get today's date\n",
        "afd = date(today.year, 4, 1)  # get April Fool's for the same year\n",
        "# use date comparison to see if April Fool's has already gone for this year\n",
        "# if it has, use the replace() function to get the date for next year\n",
        "if afd < today:\n",
        "    print (\"April Fool's day already went by %d days ago\" % ((today-afd).days))\n",
        "    afd = afd.replace(year=today.year + 1)  # if so, get the date for next year\n",
        "\n",
        "# Now calculate the amount of time until April Fool's Day  \n",
        "time_to_afd = afd - today\n",
        "print (\"It's just\", time_to_afd.days, \"days until next April Fools' Day!\")"
      ],
      "execution_count": 32,
      "outputs": [
        {
          "output_type": "stream",
          "text": [
            "April Fool's day already went by 127 days ago\n",
            "It's just 238 days until next April Fools' Day!\n"
          ],
          "name": "stdout"
        }
      ]
    }
  ]
}